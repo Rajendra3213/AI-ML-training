{
 "cells": [
  {
   "cell_type": "code",
   "execution_count": 1,
   "metadata": {},
   "outputs": [
    {
     "name": "stdout",
     "output_type": "stream",
     "text": [
      "Input Matrix:\n",
      "[[1 2 3]\n",
      " [4 5 6]\n",
      " [7 8 9]]\n",
      "\n",
      "Kernel Matrix:\n",
      "[[ 1  0 -1]\n",
      " [ 1  0 -1]\n",
      " [ 1  0 -1]]\n",
      "\n",
      "Result after Convolution:\n",
      "[[-6  0  0]\n",
      " [ 0  0  0]\n",
      " [ 0  0  0]]\n"
     ]
    }
   ],
   "source": [
    "#matrix convolution\n",
    "import numpy as np\n",
    "\n",
    "# Define the input matrix\n",
    "input_matrix = np.array([[1, 2, 3],\n",
    "                        [4, 5, 6],\n",
    "                        [7, 8, 9]])\n",
    "\n",
    "# Define the kernel (filter) matrix\n",
    "kernel = np.array([[1, 0, -1],\n",
    "                   [1, 0, -1],\n",
    "                   [1, 0, -1]])\n",
    "\n",
    "# Perform convolution\n",
    "result = np.zeros_like(input_matrix)\n",
    "\n",
    "# Get dimensions of input and kernel\n",
    "input_shape = input_matrix.shape\n",
    "kernel_shape = kernel.shape\n",
    "\n",
    "# Perform convolution\n",
    "for i in range(input_shape[0] - kernel_shape[0] + 1):\n",
    "    for j in range(input_shape[1] - kernel_shape[1] + 1):\n",
    "        result[i, j] = np.sum(input_matrix[i:i+kernel_shape[0], j:j+kernel_shape[1]] * kernel)\n",
    "\n",
    "# Print the result\n",
    "print(\"Input Matrix:\")\n",
    "print(input_matrix)\n",
    "print(\"\\nKernel Matrix:\")\n",
    "print(kernel)\n",
    "print(\"\\nResult after Convolution:\")\n",
    "print(result)\n"
   ]
  },
  {
   "cell_type": "code",
   "execution_count": 2,
   "metadata": {},
   "outputs": [
    {
     "name": "stdout",
     "output_type": "stream",
     "text": [
      "Rank of the matrix: 1\n"
     ]
    }
   ],
   "source": [
    "import numpy as np\n",
    "\n",
    "# Define your matrix\n",
    "matrix = np.array([[1, 2, 3],\n",
    "                   [4, 8, 12],\n",
    "                   [1.5, 3, 4.5]])\n",
    "\n",
    "# Find the rank of the matrix\n",
    "rank = np.linalg.matrix_rank(matrix)\n",
    "\n",
    "print(\"Rank of the matrix:\", rank)\n"
   ]
  },
  {
   "cell_type": "code",
   "execution_count": 3,
   "metadata": {},
   "outputs": [
    {
     "name": "stdout",
     "output_type": "stream",
     "text": [
      "Slope: 1.6285714285714286\n",
      "Intercept: -0.2380952380952377\n"
     ]
    }
   ],
   "source": [
    "import numpy as np\n",
    "\n",
    "def least_squares(X, Y):\n",
    "    n = len(X)\n",
    "    \n",
    "    # Calculate the mean of X and Y\n",
    "    mean_x = np.mean(X)\n",
    "    mean_y = np.mean(Y)\n",
    "    \n",
    "    # Calculate the slope (m) and intercept (b) using least squares method\n",
    "    numerator = sum((X - mean_x) * (Y - mean_y))\n",
    "    denominator = sum((X - mean_x) ** 2)\n",
    "    m = numerator / denominator\n",
    "    b = mean_y - m * mean_x\n",
    "    \n",
    "    return m, b\n",
    "\n",
    "# Example usage\n",
    "X = np.array([0,1, 2, 3, 4, 5])\n",
    "Y = np.array([1,2, 1, 4, 5, 10])\n",
    "\n",
    "slope, intercept = least_squares(X, Y)\n",
    "print(\"Slope:\", slope)\n",
    "print(\"Intercept:\", intercept)\n"
   ]
  },
  {
   "cell_type": "code",
   "execution_count": 4,
   "metadata": {},
   "outputs": [
    {
     "name": "stdout",
     "output_type": "stream",
     "text": [
      "Area of the triangle: 9.354143466934854\n"
     ]
    }
   ],
   "source": [
    "import numpy as np\n",
    "\n",
    "def calculate_area(x1, y1, z1, x2, y2, z2, x3, y3, z3):\n",
    "    # Define vectors\n",
    "    v1 = np.array([x2 - x1, y2 - y1, z2 - z1])\n",
    "    v2 = np.array([x3 - x1, y3 - y1, z3 - z1])\n",
    "\n",
    "    # Calculate the cross product\n",
    "    cross_product = np.cross(v1, v2)\n",
    "\n",
    "    # Calculate the area of the parallelogram formed by the vectors\n",
    "    area = np.linalg.norm(cross_product) / 2\n",
    "\n",
    "    return area\n",
    "\n",
    "# Example points\n",
    "x1, y1, z1 = 1, 0, -3\n",
    "x2, y2, z2 = 0, -2, -4\n",
    "x3, y3, z3 = 4, 1, 6\n",
    "\n",
    "# Calculate the area\n",
    "area = calculate_area(x1, y1, z1, x2, y2, z2, x3, y3, z3)\n",
    "print(\"Area of the triangle:\", area)\n"
   ]
  },
  {
   "cell_type": "code",
   "execution_count": 6,
   "metadata": {},
   "outputs": [
    {
     "name": "stdout",
     "output_type": "stream",
     "text": [
      "{'a': {'a': 10}}\n"
     ]
    }
   ],
   "source": [
    "lst= {\"a\":10}\n",
    "dist ={i:lst for i in lst }\n",
    "print(dist)\n",
    "    "
   ]
  }
 ],
 "metadata": {
  "kernelspec": {
   "display_name": "env",
   "language": "python",
   "name": "python3"
  },
  "language_info": {
   "codemirror_mode": {
    "name": "ipython",
    "version": 3
   },
   "file_extension": ".py",
   "mimetype": "text/x-python",
   "name": "python",
   "nbconvert_exporter": "python",
   "pygments_lexer": "ipython3",
   "version": "3.9.16"
  }
 },
 "nbformat": 4,
 "nbformat_minor": 2
}
